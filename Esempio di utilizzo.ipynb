{
 "cells": [
  {
   "cell_type": "code",
   "execution_count": 4,
   "metadata": {},
   "outputs": [],
   "source": [
    "import mysql.connector"
   ]
  },
  {
   "cell_type": "code",
   "execution_count": 21,
   "metadata": {},
   "outputs": [],
   "source": [
    "connection = mysql.connector.connect(user=  'db_admin', password= 'admin',host= 'localhost',database= 'cardstore')\n",
    "cursor = connection.cursor()"
   ]
  },
  {
   "cell_type": "code",
   "execution_count": 38,
   "metadata": {},
   "outputs": [],
   "source": [
    "result = cursor.callproc('notifica_utenti', (numeri,))\n",
    "result[0]"
   ]
  },
  {
   "cell_type": "code",
   "execution_count": 61,
   "metadata": {},
   "outputs": [],
   "source": [
    "def lista_numeri(stringa_numeri):\n",
    "    #funzione che prende in input il risultato della stored procedure e converte la stringa in una lista di numeri\n",
    "    lista = stringa_numeri.split(';')\n",
    "    number_list = [int(num) for num in lista if num.strip().isdigit()]\n",
    "    return number_list\n",
    "\n",
    "def invia_notifica(numero):\n",
    "    #funzione che invia la notifica ai numeri di telefono\n",
    "    print('Inviata notifica a: ' + str(numero))"
   ]
  },
  {
   "cell_type": "code",
   "execution_count": 62,
   "metadata": {},
   "outputs": [
    {
     "name": "stdout",
     "output_type": "stream",
     "text": [
      "Inviata notifica a: 111222333\n",
      "Inviata notifica a: 555666777\n"
     ]
    }
   ],
   "source": [
    "result_list = lista_numeri(result[0])\n",
    "for numero in result_list:\n",
    "    invia_notifica(numero)"
   ]
  }
 ],
 "metadata": {
  "kernelspec": {
   "display_name": "Python 3",
   "language": "python",
   "name": "python3"
  },
  "language_info": {
   "codemirror_mode": {
    "name": "ipython",
    "version": 3
   },
   "file_extension": ".py",
   "mimetype": "text/x-python",
   "name": "python",
   "nbconvert_exporter": "python",
   "pygments_lexer": "ipython3",
   "version": "3.11.1"
  }
 },
 "nbformat": 4,
 "nbformat_minor": 2
}
